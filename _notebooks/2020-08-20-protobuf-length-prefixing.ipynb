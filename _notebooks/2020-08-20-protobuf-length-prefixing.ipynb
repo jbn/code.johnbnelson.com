{
 "cells": [
  {
   "cell_type": "markdown",
   "metadata": {},
   "source": [
    "# Length-Prefixed Protobuf Messages\n",
    "> It's already built-in to gogo/protobuf\n",
    "\n",
    "- toc: true \n",
    "- badges: true\n",
    "- comments: true\n",
    "- categories: [go, protobuf]\n",
    "- image: /images/copied_from_nb/images/tlv.png"
   ]
  },
  {
   "cell_type": "markdown",
   "metadata": {},
   "source": [
    "![Length-Prefixed Message](images/tlv.png)"
   ]
  },
  {
   "cell_type": "markdown",
   "metadata": {},
   "source": [
    "[Protocol buffers](https://developers.google.com/protocol-buffers) are popular, \n",
    "especially indirectly via [gRPC](https://grpc.io/). If you are using `golang`,\n",
    "you may use the official [`golang/protobuf`](https://github.com/golang/protobuf)\n",
    "package. But, there are other implementations. In particular, \n",
    "[`gogo/protobuf`](https://github.com/gogo/protobuf) does protocol buffers in \n",
    "go *without* reflection, and with smarter allocations to reduce gc pressure. \n",
    "The [result is better performance](https://github.com/alecthomas/go_serialization_benchmarks#results).\n",
    "\n",
    "The [README](https://github.com/gogo/protobuf) does a good job of getting you started. However, \n",
    "if you are using `protobuf` without gRPC, you'll quickly find yourself in need of a serialization\n",
    "format for delimiting messages. The easiest way to do this is with length-prefixing. What I failed\n",
    "to realize for far too long is that `gogo/protobuf` tools for this already."
   ]
  },
  {
   "cell_type": "markdown",
   "metadata": {},
   "source": [
    "Looking at `github.com/gogo/protobuf/io`, there is\n",
    "\n",
    "```go\n",
    "func NewDelimitedReader(r io.Reader, maxSize int) ReadCloser {\n",
    "\tvar closer io.Closer\n",
    "\tif c, ok := r.(io.Closer); ok {\n",
    "\t\tcloser = c\n",
    "\t}\n",
    "\treturn &varintReader{bufio.NewReader(r), nil, maxSize, closer}\n",
    "}\n",
    "```\n",
    "\n",
    "and,\n",
    "\n",
    "```go\n",
    "func NewDelimitedWriter(w io.Writer) WriteCloser {\n",
    "\treturn &varintWriter{w, make([]byte, binary.MaxVarintLen64), nil}\n",
    "}\n",
    "```\n",
    "\n",
    "The reader has a `ReadMsg` function,\n",
    "\n",
    "```go\n",
    "func (this *varintReader) ReadMsg(msg proto.Message) error {\n",
    "```\n",
    "\n",
    "and the writer has a `WriteMsg` function,\n",
    "\n",
    "```go\n",
    "func (this *varintWriter) WriteMsg(msg proto.Message) (err error)\n",
    "```\n",
    "\n",
    "Both these methods use `encoding/binary`'s [`Uvarint`](https://golang.org/pkg/encoding/binary/#ReadUvarint), allowing for very large messages — no need to roll your own."
   ]
  },
  {
   "cell_type": "markdown",
   "metadata": {},
   "source": [
    "Depending on your protocol/serialization needs, it may be useful to use a [TLV encoding](https://en.wikipedia.org/wiki/Type-length-value). Given `DelimitedReader` and `DelimitedWriter`,\n",
    "the easiest way to do this is to write the type as a byte before each length-delimited message\n",
    "is sent. I generally define mine in the [protocol file as an enum](https://developers.google.com/protocol-buffers/docs/proto3#enum), since it's self documenting."
   ]
  },
  {
   "cell_type": "markdown",
   "metadata": {},
   "source": [
    "Anyways, nothing in this post is new or interesting. It's just that I didn't realize it was already built \n",
    "into a dependency I was using anyway, so hopefully I'll save you a stack-overflow trip."
   ]
  },
  {
   "cell_type": "code",
   "execution_count": null,
   "metadata": {},
   "outputs": [],
   "source": []
  }
 ],
 "metadata": {
  "kernelspec": {
   "display_name": "Python 3",
   "language": "python",
   "name": "python3"
  },
  "language_info": {
   "codemirror_mode": {
    "name": "ipython",
    "version": 3
   },
   "file_extension": ".py",
   "mimetype": "text/x-python",
   "name": "python",
   "nbconvert_exporter": "python",
   "pygments_lexer": "ipython3",
   "version": "3.7.1"
  }
 },
 "nbformat": 4,
 "nbformat_minor": 4
}

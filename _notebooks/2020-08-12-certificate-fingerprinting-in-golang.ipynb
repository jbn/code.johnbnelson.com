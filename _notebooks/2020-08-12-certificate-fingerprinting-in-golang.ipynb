{
 "cells": [
  {
   "cell_type": "markdown",
   "metadata": {},
   "source": [
    "# x509 Certificate Fingerprinting In Golang\n",
    "> A tutorial with comparisons to OpenSSL commands.\n",
    "\n",
    "- toc: true \n",
    "- badges: true\n",
    "- comments: true\n",
    "- categories: [go, crypto]\n",
    "- image: /images/copied_from_nb/images/cert_viewer.png"
   ]
  },
  {
   "cell_type": "markdown",
   "metadata": {},
   "source": [
    "This website serves content to your browser over an encrypted and authenticated tunnel. The **S** in `https` stands for secure via TLS (Transport Layer Security). To do so, it relies on a public key certificate associated with the domain name and issued by a certificate authority (CA) which acts as a trusted third party. I'm using github pages to host this page. Looking at the certificate in Brave's certificate viewer, you see github pages uses lets encrypt as the CA. (If you are looking at this tutorial after November 4th, 2020, you'll see different values.)"
   ]
  },
  {
   "cell_type": "markdown",
   "metadata": {},
   "source": [
    "![View from Brave's Certificate Viewer](images/cert_viewer.png)"
   ]
  },
  {
   "cell_type": "markdown",
   "metadata": {},
   "source": [
    "Looking at the same viewer, you'll also notice that Brave shows two fingerprints: one for the (no longer secure) SHA-1 algorithm and the other for the SHA256, a 512 bit block hash in the SHA-2 family. If you aren't doing much work with public key cryptography, this may be the first time you noticed the fingerprint section. However, if you use computers in any sophisticated capacity, you've probably probably have seen hashes of public key artifacts in other contexts. In particular, you may have seen a message like this, \n",
    "\n",
    "```\n",
    "The authenticity of host '<host>' can't be established.\n",
    "ECDSA key fingerprint is SHA256:<BASE64-encoded-SHA256-Fingerprint>.\n",
    "Are you sure you want to continue connecting (yes/no)? yes\n",
    "Warning: Permanently added '<host>' (ECDSA) to the list of known hosts.\n",
    "``` \n",
    "\n",
    "when connecting to a new SSH host using OpenSSH. This user experience is called TOFU: Trust on First Use. Since SSH has not seen this key before (or rather, it's fingerprint) it prompts you whether or not you would like to trust it. If you confirm with `y`, future sessions won't prompt you again, so long as the fingerprint of the key does not change. \n",
    "\n",
    "While [TOFU is a questionable practice](https://smallstep.com/blog/use-ssh-certificates/) with respect to security (how often do you actually confirm the fingerprint with an administrator or in some database before confirmation?), this use of fingerprinting is common in applications using TLS. This notebook shows you how to use both OpenSSL and golang to extract equivalent fingerprints. It is fully self-contained — if you have a Golang kernel for Jupyter, you can run it."
   ]
  },
  {
   "cell_type": "markdown",
   "metadata": {},
   "source": [
    "## Gold Values from OpenSSL and a PEM-encoded File"
   ]
  },
  {
   "cell_type": "markdown",
   "metadata": {},
   "source": [
    "First, we'll set up our imports. If you do any public key cryptography in golang, most of these will be familiar."
   ]
  },
  {
   "cell_type": "code",
   "execution_count": 1,
   "metadata": {},
   "outputs": [],
   "source": [
    "import (\n",
    "    \"crypto/md5\"\n",
    "    \"crypto/sha1\"\n",
    "    \"crypto/sha256\"\n",
    "    \"crypto/tls\"\n",
    "    \"crypto/x509\"\n",
    "    \"encoding/pem\"\n",
    "    \"fmt\"\n",
    "    \"hash\"\n",
    "    \"os\"\n",
    "    \"os/exec\"\n",
    "    \"io/ioutil\"\n",
    "    \"strings\"\n",
    ")"
   ]
  },
  {
   "cell_type": "markdown",
   "metadata": {},
   "source": [
    "Next, we'll write a fixed, minimal ASCII/PEM-encoded certificate so that this tutorial won't change over time."
   ]
  },
  {
   "cell_type": "code",
   "execution_count": 2,
   "metadata": {},
   "outputs": [],
   "source": [
    "const knownCert = `-----BEGIN CERTIFICATE-----\n",
    "MIIBUzCB+qADAgECAhR7l0x6Cgyt0hWRxQXKDB4NIgKM2TAKBggqhkjOPQQDAjAN\n",
    "MQswCQYDVQQGEwJVSzAeFw0yMDA4MTIyMzIwMTBaFw0zMDA4MTAyMzIwMTBaMA0x\n",
    "CzAJBgNVBAYTAlVLMFkwEwYHKoZIzj0CAQYIKoZIzj0DAQcDQgAEJBJm0831oqwg\n",
    "6daZcuB+vgeRFinuuT6hU2NxboDbfeyGUjv91lBWnCU1YL27d7PhZVabyNtQm0OZ\n",
    "bmveMV9v7aM4MDYwDgYDVR0PAQH/BAQDAgKEMBMGA1UdJQQMMAoGCCsGAQUFBwMB\n",
    "MA8GA1UdEwEB/wQFMAMBAf8wCgYIKoZIzj0EAwIDSAAwRQIgWawEXk36iBObsLyr\n",
    "ZPzIlIN91/85aix5kYRxAPDIkOUCIQDxsqXNpb6hFTiwLnj2stl2hwcxtcTB8bnS\n",
    "gniTVdxCTw==\n",
    "-----END CERTIFICATE-----\n",
    "`\n",
    "\n",
    "const certFile = \"test.crt\"\n",
    "err := ioutil.WriteFile(certFile, []byte(knownCert), os.ModePerm)\n",
    "if err != nil {\n",
    "    panic(err)\n",
    "}"
   ]
  },
  {
   "cell_type": "markdown",
   "metadata": {},
   "source": [
    "With a certificate in hand (on disk), we can use `openssl` to compute the fingerprints. [OpenSSL](https://www.openssl.org/) is robust and enjoys the battle-tested upside of [Linus's Law](https://en.wikipedia.org/wiki/Linus%27s_law), so it's a useful way to compute the expected outputs using MD5, SHA1, SHA256."
   ]
  },
  {
   "cell_type": "code",
   "execution_count": 8,
   "metadata": {},
   "outputs": [
    {
     "name": "stdout",
     "output_type": "stream",
     "text": [
      "MD5    = 04:56:1B:6C:AF:DE:39:72:18:74:AE:E0:F9:5B:2D:DE\n",
      "SHA1   = 3A:1F:3B:C0:B3:A4:5B:FE:D6:D7:87:5E:C7:1D:E4:C4:7B:EA:B0:C0\n",
      "SHA256 = D7:AD:9F:D5:C4:F4:BD:23:7B:DE:BF:7F:30:C0:D8:99:7A:C8:72:94:DE:DA:25:C7:4E:6C:3B:06:C4:EB:4E:C0\n"
     ]
    }
   ],
   "source": [
    "// Extract the fingerprint from command execution in a generic way\n",
    "func extractFingerprint(cmd *exec.Cmd) string {\n",
    "    b, err := cmd.Output()\n",
    "    if err != nil {\n",
    "        panic(err)\n",
    "    }\n",
    "    return strings.Split(strings.TrimSpace(string(b)), \"=\")[1]\n",
    "}\n",
    "\n",
    "knownMD5 := extractFingerprint(exec.Command(\"openssl\", \"x509\", \"-noout\", \"-fingerprint\", \"-md5\", \"-in\", certFile))\n",
    "knownSHA1 := extractFingerprint(exec.Command(\"openssl\", \"x509\", \"-noout\", \"-fingerprint\", \"-sha1\", \"-in\", certFile))\n",
    "knownSHA256 := extractFingerprint(exec.Command(\"openssl\", \"x509\", \"-noout\", \"-fingerprint\", \"-sha256\", \"-in\", certFile))\n",
    "_, _ := fmt.Printf(\"MD5    = %s\\nSHA1   = %s\\nSHA256 = %s\\n\", knownMD5, knownSHA1, knownSHA256)"
   ]
  },
  {
   "cell_type": "markdown",
   "metadata": {},
   "source": [
    "## Fingerprinting without x509 Parsing"
   ]
  },
  {
   "cell_type": "markdown",
   "metadata": {},
   "source": [
    "With the gold values computed, we can now use Go, instead. First, we'll load the certificate file and decode the PEM data."
   ]
  },
  {
   "cell_type": "code",
   "execution_count": 4,
   "metadata": {},
   "outputs": [],
   "source": [
    "b, err := ioutil.ReadFile(certFile)\n",
    "if err != nil {\n",
    "    panic(err)\n",
    "}\n",
    "\n",
    "block, _ := pem.Decode(b)\n",
    "if block == nil {\n",
    "    panic(\"doesn't seem like a PEM block\")\n",
    "}"
   ]
  },
  {
   "cell_type": "markdown",
   "metadata": {},
   "source": [
    "Now, we'll compute the MD5, SHA1, and SHA256, hashes from the PEM block's `Bytes` field."
   ]
  },
  {
   "cell_type": "code",
   "execution_count": 5,
   "metadata": {},
   "outputs": [
    {
     "name": "stdout",
     "output_type": "stream",
     "text": [
      "MD5 Equal    = true\n",
      "SHA1 Equal   = true\n",
      "SHA256 Equal = true\n"
     ]
    }
   ],
   "source": [
    "// Normalize the hash so it is equal to the openssl output\n",
    "func normalizeHash(h hash.Hash, b []byte) string {\n",
    "    _, err := h.Write(b)\n",
    "    if err != nil {\n",
    "        panic(err)\n",
    "    }\n",
    "    digest := h.Sum([]byte{})\n",
    "                         \n",
    "    var parts []string\n",
    "    for _, octet := range digest {\n",
    "        parts = append(parts, fmt.Sprintf(\"%02X\", octet))\n",
    "    }\n",
    "    return strings.Join(parts, \":\")\n",
    "}\n",
    "\n",
    "_, _ := fmt.Printf(\"MD5 Equal    = %v\\nSHA1 Equal   = %v\\nSHA256 Equal = %v\\n\",\n",
    "    normalizeHash(md5.New(), block.Bytes) == knownMD5,\n",
    "    normalizeHash(sha1.New(), block.Bytes) == knownSHA1,\n",
    "    normalizeHash(sha256.New(), block.Bytes) == knownSHA256,\n",
    ")"
   ]
  },
  {
   "cell_type": "markdown",
   "metadata": {},
   "source": [
    "They are equal. The go code and the OpenSSL commands compute the same thing."
   ]
  },
  {
   "cell_type": "markdown",
   "metadata": {},
   "source": [
    "## Fingerprinting with x509 Parsing"
   ]
  },
  {
   "cell_type": "markdown",
   "metadata": {},
   "source": [
    "This part is a little contrived. But, often you have ready access to a `*x509.Certificate`. If you do, the `Raw` field contains the same data as the block bytes,"
   ]
  },
  {
   "cell_type": "code",
   "execution_count": 6,
   "metadata": {},
   "outputs": [
    {
     "name": "stdout",
     "output_type": "stream",
     "text": [
      "MD5 Equal    = true\n",
      "SHA1 Equal   = true\n",
      "SHA256 Equal = true\n"
     ]
    }
   ],
   "source": [
    "cert, err := x509.ParseCertificate(block.Bytes)\n",
    "if block == nil {\n",
    "    panic(\"doesn't seem like a PEM block\")\n",
    "}\n",
    "\n",
    "_, _ := fmt.Printf(\"MD5 Equal    = %v\\nSHA1 Equal   = %v\\nSHA256 Equal = %v\\n\",\n",
    "    normalizeHash(md5.New(), cert.Raw) == knownMD5,\n",
    "    normalizeHash(sha1.New(), cert.Raw) == knownSHA1,\n",
    "    normalizeHash(sha256.New(), cert.Raw) == knownSHA256,\n",
    ")"
   ]
  },
  {
   "cell_type": "markdown",
   "metadata": {},
   "source": [
    "## Fingerprinting from a Peer Certificate"
   ]
  },
  {
   "cell_type": "markdown",
   "metadata": {},
   "source": [
    "Finally, most code that uses `net` makes the peer certificates for an active connection available in some way. This example shows how to take the fingerprint of that certificate."
   ]
  },
  {
   "cell_type": "code",
   "execution_count": 10,
   "metadata": {},
   "outputs": [
    {
     "data": {
      "text/plain": [
       "D7:AB:C0:10:83:65:B2:59:CA:88:5B:94:43:EF:86:E5:49:B6:F0:57:38:4F:4F:33:BA:27:8C:DB:D6:D2:88:2B"
      ]
     },
     "execution_count": 10,
     "metadata": {},
     "output_type": "execute_result"
    }
   ],
   "source": [
    "conn, err := tls.Dial(\"tcp\", \"code.johnbnelson.com:443\", &tls.Config{})\n",
    "if err != nil {\n",
    "    panic(err)\n",
    "}\n",
    "\n",
    "// There may be more than one certificate. This example may break.\n",
    "fetchedCert := conn.ConnectionState().PeerCertificates[0]\n",
    "conn.Close()\n",
    "normalizeHash(sha256.New(), fetchedCert.Raw)"
   ]
  },
  {
   "cell_type": "markdown",
   "metadata": {},
   "source": [
    "## Conclusion"
   ]
  },
  {
   "cell_type": "markdown",
   "metadata": {},
   "source": [
    "Go is batteries included from the perspective of public key cryptography. The most complicated part of this tutorial was string manipulation, which you don't have to actually do. The only *general* parting advice is, as always, don't use MD5 or SHA1 — they are insecure."
   ]
  }
 ],
 "metadata": {
  "kernelspec": {
   "display_name": "Go",
   "language": "go",
   "name": "gophernotes"
  },
  "language_info": {
   "codemirror_mode": "",
   "file_extension": ".go",
   "mimetype": "",
   "name": "go",
   "nbconvert_exporter": "",
   "pygments_lexer": "",
   "version": "go1.13.8"
  }
 },
 "nbformat": 4,
 "nbformat_minor": 4
}
